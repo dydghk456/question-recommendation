{
 "cells": [
  {
   "cell_type": "code",
   "execution_count": 1,
   "id": "075e9ebe",
   "metadata": {},
   "outputs": [],
   "source": [
    "import pandas as pd\n",
    "import spacy\n",
    "import umap\n",
    "import numpy as np \n",
    "from pathlib import Path\n",
    "import sys\n",
    "sys.path.append(\"..\")\n",
    "import warnings\n",
    "warnings.filterwarnings('ignore')\n",
    "from ml_editor.data_processing import format_raw_df, get_random_train_test_split, get_vectorized_inputs_and_label, get_split_by_author\n",
    "\n",
    "data_path = Path('../data/writers.csv')\n",
    "df = pd.read_csv(data_path)\n",
    "df = format_raw_df(df.copy())"
   ]
  },
  {
   "cell_type": "code",
   "execution_count": 3,
   "id": "5e1d4d77",
   "metadata": {},
   "outputs": [],
   "source": [
    "train_df_rand, test_df_rand = get_random_train_test_split(df[df[\"is_question\"]], test_size=0.3, random_state=40)"
   ]
  },
  {
   "cell_type": "code",
   "execution_count": 6,
   "id": "9a40ec8f",
   "metadata": {},
   "outputs": [
    {
     "name": "stdout",
     "output_type": "stream",
     "text": [
      "훈련 세트: 5579개 질문, 테스트 세트: 2392개 질문\n",
      "훈련 세트에 있는 작성자: 2955명\n",
      "테스트 세트에 있는 작성자: 1531명\n",
      "양쪽에 모두 등장하는 작성자: 596명\n"
     ]
    }
   ],
   "source": [
    "print(\"훈련 세트: %s개 질문, 테스트 세트: %s개 질문\" % (len(train_df_rand),len(test_df_rand)))\n",
    "train_owners = set(train_df_rand['OwnerUserId'].values)\n",
    "test_owners = set(test_df_rand['OwnerUserId'].values)\n",
    "print(\"훈련 세트에 있는 작성자: %s명\" % len(train_owners))\n",
    "print(\"테스트 세트에 있는 작성자: %s명\" % len(test_owners))\n",
    "print(\"양쪽에 모두 등장하는 작성자: %s명\" % len(train_owners.intersection(test_owners)))"
   ]
  },
  {
   "cell_type": "code",
   "execution_count": null,
   "id": "1c7fc558",
   "metadata": {},
   "outputs": [],
   "source": []
  }
 ],
 "metadata": {
  "kernelspec": {
   "display_name": "Python 3 (ipykernel)",
   "language": "python",
   "name": "python3"
  },
  "language_info": {
   "codemirror_mode": {
    "name": "ipython",
    "version": 3
   },
   "file_extension": ".py",
   "mimetype": "text/x-python",
   "name": "python",
   "nbconvert_exporter": "python",
   "pygments_lexer": "ipython3",
   "version": "3.9.7"
  }
 },
 "nbformat": 4,
 "nbformat_minor": 5
}
