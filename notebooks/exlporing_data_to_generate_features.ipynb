{
 "cells": [
  {
   "cell_type": "code",
   "execution_count": null,
   "id": "572e4e97",
   "metadata": {},
   "outputs": [],
   "source": [
    "import pandas as pd\n",
    "import spacy\n",
    "import umap\n",
    "import numpy as np \n",
    "from io import BytesIO\n",
    "from PIL import Image\n",
    "import base64\n",
    "from bokeh.plotting import figure, show, output_notebook\n",
    "from bokeh.models import HoverTool, ColumnDataSource, CategoricalColorMapper\n",
    "from bokeh.palettes import Spectral10, Category10\n",
    "from pathlib import Path\n",
    "import sys\n",
    "sys.path.append(\"..\")\n",
    "import warnings\n",
    "warnings.filterwarnings('ignore')\n",
    "%matplotlib inline\n",
    "%load_ext autoreload\n",
    "%autoreload 2\n",
    "\n",
    "from ml_editor.data_processing import format_raw_df, get_split_by_author, get_normalized_series, add_text_features_to_df\n",
    "from ml_editor.data_visualization import plot_embeddings\n",
    "\n",
    "df = pd.read_csv(Path('../data/writers.csv'))\n",
    "df = format_raw_df(df.copy())\n",
    "\n",
    "train_author, test_author = get_split_by_author(df[df[\"is_question\"]])\n",
    "\n",
    "questions = train_author[train_author[\"is_question\"]]\n",
    "raw_text = questions[\"body_text\"]\n",
    "sent_labels = questions[\"AcceptedAnswerId\"].notna()\n",
    "\n",
    "nlp = spacy.load('en_core_web_lg', disable=[\"parser\", \"tagger\", \"ner\", \n",
    "                                            \"textcat\", \"lemmatizer\"])\n",
    "\n",
    "spacy_emb = train_author[train_author[\"is_question\"]][\"body_text\"].apply(lambda x: nlp(x).vector)\n",
    "embeddings = np.vstack(spacy_emb)\n",
    "\n",
    "umap_embedder = umap.UMAP()\n",
    "umap_emb = umap_embedder.fit_transform(embeddings)"
   ]
  },
  {
   "cell_type": "code",
   "execution_count": null,
   "id": "201e0901",
   "metadata": {},
   "outputs": [],
   "source": []
  }
 ],
 "metadata": {
  "kernelspec": {
   "display_name": "Python 3 (ipykernel)",
   "language": "python",
   "name": "python3"
  },
  "language_info": {
   "codemirror_mode": {
    "name": "ipython",
    "version": 3
   },
   "file_extension": ".py",
   "mimetype": "text/x-python",
   "name": "python",
   "nbconvert_exporter": "python",
   "pygments_lexer": "ipython3",
   "version": "3.9.7"
  }
 },
 "nbformat": 4,
 "nbformat_minor": 5
}
